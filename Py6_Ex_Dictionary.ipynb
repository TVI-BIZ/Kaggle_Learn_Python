{
  "cells": [
    {
      "metadata": {
        "_uuid": "52588900c5de7b6722375482025a2b38f132f1e8"
      },
      "cell_type": "markdown",
      "source": "**[Python Course Home Page](https://www.kaggle.com/learn/python)**\n\n---\n"
    },
    {
      "metadata": {
        "_uuid": "be93722f63dae8d1c75dc05caf347ca70974b8f9"
      },
      "cell_type": "markdown",
      "source": "These exercises accompany the tutorial on [strings and dictionaries](https://www.kaggle.com/colinmorris/strings-and-dictionaries).\n\nRun the setup code below before working on the questions (and run it again if you leave this notebook and come back later)."
    },
    {
      "metadata": {
        "_uuid": "a38003a2036c8d552181e5ad5c2cd74d514c34e0",
        "trusted": true
      },
      "cell_type": "code",
      "source": "# SETUP. You don't need to worry for now about what this code does or how it works. If you're ever curious about the \n# code behind these exercises, it's available under an open source license here: https://github.com/Kaggle/learntools/\nfrom learntools.core import binder; binder.bind(globals())\nfrom learntools.python.ex6 import *\nprint('Setup complete.')",
      "execution_count": null,
      "outputs": []
    },
    {
      "metadata": {
        "_uuid": "bf9f8326544342f91a72ce43b781400ada20961e"
      },
      "cell_type": "markdown",
      "source": "# Exercises"
    },
    {
      "metadata": {
        "_uuid": "ccf3ecb7a7f5e9468c91c0100115bbe30fd256ba"
      },
      "cell_type": "markdown",
      "source": "## 0. \n\nLet's start with a string lightning round to warm up. What are the lengths of the strings below?\n\nFor each of the five strings below, predict what `len()` would return when passed that string. Use the variable `length` to record your answer, then run the cell to check whether you were right."
    },
    {
      "metadata": {
        "_uuid": "cb4f4034a528840937894332180ff2b5dc5a5ba1",
        "trusted": true
      },
      "cell_type": "code",
      "source": "a = \"\"\nlength = len(a)\nq0.a.check()",
      "execution_count": null,
      "outputs": []
    },
    {
      "metadata": {
        "_uuid": "f52f46114a3cf26ac4581123ce8816b39c2565ed",
        "trusted": true
      },
      "cell_type": "code",
      "source": "b = \"it's ok\"\nlength = len(b)\nprint(length)\nq0.b.check()",
      "execution_count": null,
      "outputs": []
    },
    {
      "metadata": {
        "_uuid": "45ed37957b289d85e9a76b4d64a377c11ad1e509",
        "trusted": true
      },
      "cell_type": "code",
      "source": "c = 'it\\'s ok'\nlength = len(c)\nprint(length)\nq0.c.check()",
      "execution_count": null,
      "outputs": []
    },
    {
      "metadata": {
        "_uuid": "c1c239a08b207e4f8a0201c28971f8685fdf55b4",
        "trusted": true
      },
      "cell_type": "code",
      "source": "d = \"\"\"hey\"\"\"\nlength = len(d)\nprint(length)\nq0.d.check()",
      "execution_count": null,
      "outputs": []
    },
    {
      "metadata": {
        "_uuid": "58d5372956a62bfbca29303b9b6118364e3a34cf",
        "trusted": true
      },
      "cell_type": "code",
      "source": "e = '\\n'\nlength = len(e)\nq0.e.check()",
      "execution_count": null,
      "outputs": []
    },
    {
      "metadata": {
        "_uuid": "cbf443d4d42d2ebe45d9a6946b5bf63b0570dd7c"
      },
      "cell_type": "markdown",
      "source": "## 1.\n\nThere is a saying that \"Data scientists spend 80% of their time cleaning data, and 20% of their time complaining about cleaning data.\" Let's see if you can write a function to help clean US zip code data. Given a string, it should return whether or not that string represents a valid zip code. For our purposes, a valid zip code is any string consisting of exactly 5 digits.\n\nHINT: `str` has a method that will be useful here. Use `help(str)` to review a list of string methods."
    },
    {
      "metadata": {
        "_uuid": "58139bf7cd6b533b8461a8fc0be6131056bb5728",
        "trusted": true
      },
      "cell_type": "code",
      "source": "def is_valid_zip(zip_code):\n    \"\"\"Returns whether the input string is a valid (5 digit) zip code\n    \"\"\"\n    pass\n    if (zip_code.isdigit()) and len(zip_code) == 5:\n        return True\n    else:\n        return False\n            \n\nq1.check()",
      "execution_count": null,
      "outputs": []
    },
    {
      "metadata": {
        "_uuid": "5657cdec0ffaebdf3eb2ff5acd7051f8ba61f6bf",
        "trusted": false
      },
      "cell_type": "code",
      "source": "#q1.hint()\n#q1.solution()",
      "execution_count": null,
      "outputs": []
    },
    {
      "metadata": {
        "_uuid": "cc40682dfef33e62765edff1a933d5d4076f13ae"
      },
      "cell_type": "markdown",
      "source": "## 2.\n\nA researcher has gathered thousands of news articles. But she wants to focus her attention on articles including a specific word. Complete the function below to help her filter her list of articles.\n\nYour function should meet the following criteria\n\n- Do not include documents where the keyword string shows up only as a part of a larger word. For example, if she were looking for the keyword “closed”, you would not include the string “enclosed.” \n- She does not want you to distinguish upper case from lower case letters. So the phrase “Closed the case.” would be included when the keyword is “closed”\n- Do not let periods or commas affect what is matched. “It is closed.” would be included when the keyword is “closed”. But you can assume there are no other types of punctuation."
    },
    {
      "metadata": {
        "_uuid": "3a2930c509f89ee95febc85df0fb743fb34e43ca",
        "trusted": true
      },
      "cell_type": "code",
      "source": "import string\ndef word_search(doc_list, keyword):\n    \"\"\"\n    Takes a list of documents (each document is a string) and a keyword. \n    Returns list of the index values into the original list for all documents \n    containing the keyword.\n\n    Example:\n    doc_list = [\"The Learn Python Challenge Casino.\", \"They bought a car\", \"Casinoville\"]\n    >>> word_search(doc_list, 'casino')\n    >>> [0]\n    \"\"\"\n    pass\n    res = []\n    for i in range(len(doc_list)):\n        words = doc_list[i].split()\n        for word in words:\n            out = \"\".join(c for c in word.lower() if c not in ('!','.',':',','))\n            if out == keyword:             \n                res.append(i) \n    reslist = list(set(res))\n    return reslist\n\n\nq2.check()",
      "execution_count": null,
      "outputs": []
    },
    {
      "metadata": {
        "_uuid": "f7b6e19a1ae569e75c1d049fa80df0ced989b80d",
        "trusted": false
      },
      "cell_type": "code",
      "source": "#q2.hint()\n#q2.solution()",
      "execution_count": null,
      "outputs": []
    },
    {
      "metadata": {
        "_uuid": "512130bae1594aca0c72cf01a0b7bd8e7e746525"
      },
      "cell_type": "markdown",
      "source": "## 3.\n\nNow the researcher wants to supply multiple keywords to search for. Complete the function below to help her.\n\n(You're encouraged to use the `word_search` function you just wrote when implementing this function. Reusing code in this way makes your programs more robust and readable - and it saves typing!)"
    },
    {
      "metadata": {
        "_uuid": "636e457fc9a41307583bca2833fd2feb9395b16c",
        "trusted": true
      },
      "cell_type": "code",
      "source": "def multi_word_search(doc_list, keywords):\n    \"\"\"\n    Takes list of documents (each document is a string) and a list of keywords.  \n    Returns a dictionary where each key is a keyword, and the value is a list of indices\n    (from doc_list) of the documents containing that keyword\n\n    >>> doc_list = [\"The Learn Python Challenge Casino.\", \"They bought a car and a casino\", \"Casinoville\"]\n    >>> keywords = ['casino', 'they']\n    >>> multi_word_search(doc_list, keywords)\n    {'casino': [0, 1], 'they': [1]}\n    \"\"\"\n    pass\n    res = {}\n    for i in range(len(doc_list)):\n        words = doc_list[i].split()\n        for word in words:\n            out = \"\".join(c for c in word.lower() if c not in ('!','.',':',','))\n            for keyword in keywords:\n                if out == keyword: \n                    res[keyword] = [i]\n                elif out != keyword:\n                    res[keyword] = []\n                    #res[keyword] = i\n#                 else:\n#                     res[keyword] = []\n\n    #reslist = list(set(res))\n    return res\n\n\n\n\nq3.check()",
      "execution_count": null,
      "outputs": []
    },
    {
      "metadata": {
        "_uuid": "f5757b78be85bb87dd4bfd6016e760efdf62c2d8",
        "trusted": false
      },
      "cell_type": "code",
      "source": "#q3.solution()",
      "execution_count": null,
      "outputs": []
    },
    {
      "metadata": {
        "_uuid": "afc54e62448d3fc17e85389880be79c21ffdf382"
      },
      "cell_type": "markdown",
      "source": "# Keep Going\n\nYou are ready for **[imports](https://www.kaggle.com/colinmorris/working-with-external-libraries).**\n\n"
    },
    {
      "metadata": {
        "_uuid": "eb0fb3dbd9cbcbc64040d39eec88c57ce50c5b5a"
      },
      "cell_type": "markdown",
      "source": "---\n**[Python Course Home Page](https://www.kaggle.com/learn/python)**\n\n"
    }
  ],
  "metadata": {
    "kernelspec": {
      "display_name": "Python 3",
      "language": "python",
      "name": "python3"
    },
    "language_info": {
      "name": "python",
      "version": "3.6.6",
      "mimetype": "text/x-python",
      "codemirror_mode": {
        "name": "ipython",
        "version": 3
      },
      "pygments_lexer": "ipython3",
      "nbconvert_exporter": "python",
      "file_extension": ".py"
    },
    "learntools_metadata": {
      "lesson_index": 5,
      "type": "exercise"
    }
  },
  "nbformat": 4,
  "nbformat_minor": 1
}