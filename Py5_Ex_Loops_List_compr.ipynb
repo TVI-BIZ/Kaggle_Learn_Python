{
  "cells": [
    {
      "metadata": {
        "_uuid": "b2362e5fc68b4f3b32eb53e3774f4cc10d62a602"
      },
      "cell_type": "markdown",
      "source": "**[Python Course Home Page](https://www.kaggle.com/learn/python)**\n\n---\n"
    },
    {
      "metadata": {
        "_uuid": "ca2069a27d43da7b120f4ef9c41a388292089d8e"
      },
      "cell_type": "markdown",
      "source": "These exercises accompany the tutorial on [loops and list comprehensions](https://www.kaggle.com/colinmorris/loops-and-list-comprehensions).\n\nAs always, run the setup code below before working on the questions (and if you leave this notebook and come back later, remember to run the setup code again)."
    },
    {
      "metadata": {
        "_uuid": "52e67a35fb751974efb97583e50fc76b397c7ce9",
        "trusted": true
      },
      "cell_type": "code",
      "source": "# SETUP. You don't need to worry for now about what this code does or how it works. If you're ever curious about the \n# code behind these exercises, it's available under an open source license here: https://github.com/Kaggle/learntools/\nfrom learntools.core import binder; binder.bind(globals())\nfrom learntools.python.ex5 import *\nprint('Setup complete.')",
      "execution_count": null,
      "outputs": []
    },
    {
      "metadata": {
        "_uuid": "4c332c9225f5b9105a611f275ce575dba00cf5ac"
      },
      "cell_type": "markdown",
      "source": "# Exercises"
    },
    {
      "metadata": {
        "_uuid": "64294872901a85e84adca78e4760e5c6b7fb3e7c"
      },
      "cell_type": "markdown",
      "source": "## 1.\n\nHave you ever felt debugging involved a bit of luck? The following program has a bug. Try to identify the bug and fix it."
    },
    {
      "metadata": {
        "_uuid": "900f277b91e37e89826387c4c89561596598bb3f",
        "trusted": true
      },
      "cell_type": "code",
      "source": "def has_lucky_number(nums):\n    \"\"\"Return whether the given list of numbers is lucky. A lucky list contains\n    at least one number divisible by 7.\n    \"\"\"\n    for num in nums:\n        if num % 7 == 0:\n            return True\n        else:\n            return False",
      "execution_count": null,
      "outputs": []
    },
    {
      "metadata": {
        "_uuid": "c8529b588d8dbae674b0b35cc815ced8f50f58e0"
      },
      "cell_type": "markdown",
      "source": "Try to identify the bug and fix it in the cell below:"
    },
    {
      "metadata": {
        "_uuid": "523e53f310816374acd04eb7e09222762b6bb334",
        "trusted": true
      },
      "cell_type": "code",
      "source": "def has_lucky_number(nums):\n    \"\"\"Return whether the given list of numbers is lucky. A lucky list contains\n    at least one number divisible by 7.\n    \"\"\"\n    if len([num for num in nums if num % 7 ==0 and len(nums) > 0]) > 0:\n        return True\n    else:\n        return False\n    \nq1.check()",
      "execution_count": 15,
      "outputs": [
        {
          "output_type": "display_data",
          "data": {
            "text/plain": "<IPython.core.display.Javascript object>",
            "application/javascript": "parent.postMessage({\"jupyterEvent\": \"custom.exercise_interaction\", \"data\": {\"outcomeType\": 1, \"valueTowardsCompletion\": 0.3333333333333333, \"interactionType\": 1, \"learnTutorialId\": 110, \"questionId\": \"1_EarlyExitDebugging\", \"learnToolsVersion\": \"0.2.11\", \"failureMessage\": \"\", \"exceptionClass\": \"\", \"trace\": \"\"}}, \"*\")"
          },
          "metadata": {}
        },
        {
          "output_type": "display_data",
          "data": {
            "text/plain": "Correct: \n\nRemember that `return` causes a function to exit immediately. So our original implementation always ran for just one iteration. We can only return `False` if we've looked at every element of the list (and confirmed that none of them are lucky). Though we can return early if the answer is `True`:\n\n```python\ndef has_lucky_number(nums):\n    for num in nums:\n        if num % 7 == 0:\n            return True\n    # We've exhausted the list without finding a lucky number\n    return False\n```\n\nHere's a one-line version using a list comprehension with Python's `any` function (you can read about what it does by calling `help(any)`):\n\n```python\ndef has_lucky_number(nums):\n    return any([num % 7 == 0 for num in nums])\n```",
            "text/markdown": "<span style=\"color:#33cc33\">Correct:</span> \n\nRemember that `return` causes a function to exit immediately. So our original implementation always ran for just one iteration. We can only return `False` if we've looked at every element of the list (and confirmed that none of them are lucky). Though we can return early if the answer is `True`:\n\n```python\ndef has_lucky_number(nums):\n    for num in nums:\n        if num % 7 == 0:\n            return True\n    # We've exhausted the list without finding a lucky number\n    return False\n```\n\nHere's a one-line version using a list comprehension with Python's `any` function (you can read about what it does by calling `help(any)`):\n\n```python\ndef has_lucky_number(nums):\n    return any([num % 7 == 0 for num in nums])\n```\n"
          },
          "metadata": {}
        }
      ]
    },
    {
      "metadata": {
        "collapsed": true,
        "_uuid": "3ed2298afff3f122239d48183481215a57e72536",
        "trusted": false
      },
      "cell_type": "code",
      "source": "#q1.hint()\n#q1.solution()",
      "execution_count": null,
      "outputs": []
    },
    {
      "metadata": {
        "_uuid": "0c636c0ed5c85362260a53ae762ec0056bfee0fa"
      },
      "cell_type": "markdown",
      "source": "## 2.\n\n### a.\nLook at the Python expression below. What do you think we'll get when we run it? When you've made your prediction, uncomment the code and run the cell to see if you were right."
    },
    {
      "metadata": {
        "_uuid": "a0cc25bac3dd670f1ff8074ce961800dbe437c2d",
        "trusted": true
      },
      "cell_type": "code",
      "source": "[1, 2, 3, 4] > 2",
      "execution_count": null,
      "outputs": []
    },
    {
      "metadata": {
        "_uuid": "053aa324597b7bd321b02f81b7ec28cc12eb2c3a"
      },
      "cell_type": "markdown",
      "source": "### b\nIf you’ve used R or certain Python libraries like numpy or pandas, you might have expected that when we ran the above code, Python would compare each element of the list to 2 (i.e. do an 'element-wise' comparison) and give us a list of booleans like `[False, False, True, True]`. \n\nImplement a function that reproduces this behaviour, returning a list of booleans corresponding to whether the corresponding element is greater than n.\n"
    },
    {
      "metadata": {
        "_uuid": "32f846da16b1dcb4e3941c8399e66199cae2e952",
        "trusted": true
      },
      "cell_type": "code",
      "source": "def elementwise_greater_than(L, thresh):\n    \"\"\"Return a list with the same length as L, where the value at index i is \n    True if L[i] is greater than thresh, and False otherwise.\n    \n    >>> elementwise_greater_than([1, 2, 3, 4], 2)\n    [False, False, True, True]\n    \"\"\"\n    pass\n    resList = []\n    for elem in L:\n        if elem > thresh:\n            resList.append(True)\n        else:\n            resList.append(False)\n    return resList\n\n\nq2.check()",
      "execution_count": 16,
      "outputs": [
        {
          "output_type": "display_data",
          "data": {
            "text/plain": "<IPython.core.display.Javascript object>",
            "application/javascript": "parent.postMessage({\"jupyterEvent\": \"custom.exercise_interaction\", \"data\": {\"outcomeType\": 1, \"valueTowardsCompletion\": 0.3333333333333333, \"interactionType\": 1, \"learnTutorialId\": 110, \"questionId\": \"2_ElementWiseComparison\", \"learnToolsVersion\": \"0.2.11\", \"failureMessage\": \"\", \"exceptionClass\": \"\", \"trace\": \"\"}}, \"*\")"
          },
          "metadata": {}
        },
        {
          "output_type": "display_data",
          "data": {
            "text/plain": "Correct: \n\nHere's one solution:\n```python\ndef elementwise_greater_than(L, thresh):\n    res = []\n    for ele in L:\n        res.append(ele > thresh)\n    return res\n```\n\nAnd here's the list comprehension version:\n```python\ndef elementwise_greater_than(L, thresh):\n    return [ele > thresh for ele in L]\n```",
            "text/markdown": "<span style=\"color:#33cc33\">Correct:</span> \n\nHere's one solution:\n```python\ndef elementwise_greater_than(L, thresh):\n    res = []\n    for ele in L:\n        res.append(ele > thresh)\n    return res\n```\n\nAnd here's the list comprehension version:\n```python\ndef elementwise_greater_than(L, thresh):\n    return [ele > thresh for ele in L]\n```\n"
          },
          "metadata": {}
        }
      ]
    },
    {
      "metadata": {
        "collapsed": true,
        "_uuid": "89cc70e107b7e63a3637e4899b0e95d80380a9b8",
        "trusted": false
      },
      "cell_type": "code",
      "source": "#q2.solution()",
      "execution_count": null,
      "outputs": []
    },
    {
      "metadata": {
        "_uuid": "b421bdd93ad5907c3b787e1e29f55cdbd152bdf5"
      },
      "cell_type": "markdown",
      "source": "## 3.\n\nComplete the body of the function below according to its docstring"
    },
    {
      "metadata": {
        "_uuid": "e67b9736c6abcc34f5430b3eea5baf966ac5380d",
        "trusted": true
      },
      "cell_type": "code",
      "source": "def menu_is_boring(meals):\n    \"\"\"Given a list of meals served over some period of time, return True if the\n    same meal has ever been served two days in a row, and False otherwise.\n    \"\"\"\n    pass\n    counter = 0\n    for i in range(len(meals)-1):\n        if meals[i] == meals[i+1]:\n            counter += 1\n        else:\n            counter += 0\n    if counter > 0:\n        return True\n    else:\n        return False\n\nq3.check()",
      "execution_count": 23,
      "outputs": [
        {
          "output_type": "display_data",
          "data": {
            "text/plain": "<IPython.core.display.Javascript object>",
            "application/javascript": "parent.postMessage({\"jupyterEvent\": \"custom.exercise_interaction\", \"data\": {\"outcomeType\": 1, \"valueTowardsCompletion\": 0.3333333333333333, \"interactionType\": 1, \"learnTutorialId\": 110, \"questionId\": \"3_BoringMenu\", \"learnToolsVersion\": \"0.2.11\", \"failureMessage\": \"\", \"exceptionClass\": \"\", \"trace\": \"\"}}, \"*\")"
          },
          "metadata": {}
        },
        {
          "output_type": "display_data",
          "data": {
            "text/plain": "Correct: \n\n\n\n```python\ndef menu_is_boring(meals):\n    # Iterate over all indices of the list, except the last one\n    for i in range(len(meals)-1):\n        if meals[i] == meals[i+1]:\n            return True\n    return False\n```\n\nThe key to our solution is the call to `range`. `range(len(meals))` would give us all the indices of `meals`. If we had used that range, the last iteration of the loop would be comparing the last element to the element after it, which is... `IndexError`! `range(len(meals)-1)` gives us all the indices except the index of the last element.\n\nBut don't we need to check if `meals` is empty? Turns out that `range(0) == range(-1)` - they're both empty. So if `meals` has length 0 or 1, we just won't do any iterations of our for loop.",
            "text/markdown": "<span style=\"color:#33cc33\">Correct:</span> \n\n\n\n```python\ndef menu_is_boring(meals):\n    # Iterate over all indices of the list, except the last one\n    for i in range(len(meals)-1):\n        if meals[i] == meals[i+1]:\n            return True\n    return False\n```\n\nThe key to our solution is the call to `range`. `range(len(meals))` would give us all the indices of `meals`. If we had used that range, the last iteration of the loop would be comparing the last element to the element after it, which is... `IndexError`! `range(len(meals)-1)` gives us all the indices except the index of the last element.\n\nBut don't we need to check if `meals` is empty? Turns out that `range(0) == range(-1)` - they're both empty. So if `meals` has length 0 or 1, we just won't do any iterations of our for loop.\n"
          },
          "metadata": {}
        }
      ]
    },
    {
      "metadata": {
        "collapsed": true,
        "_uuid": "fb9fa8584c174ebac59c69d5475609ebf571c462",
        "trusted": false
      },
      "cell_type": "code",
      "source": "#q3.hint()\n#q3.solution()",
      "execution_count": null,
      "outputs": []
    },
    {
      "metadata": {
        "_uuid": "7070ecd007a2464fccf045c1582cf15a7bd157e4"
      },
      "cell_type": "markdown",
      "source": "## 4. <span title=\"A bit spicy\" style=\"color: darkgreen \">🌶️</span>\n\nNext to the Blackjack table, the Python Challenge Casino has a slot machine. You can get a result from the slot machine by calling `play_slot_machine()`. The number it returns is your winnings in dollars. Usually it returns 0.  But sometimes you'll get lucky and get a big payday. Try running it below:"
    },
    {
      "metadata": {
        "_uuid": "9a5f28a682c1d6cda8b534146c5a00116c31b5b2",
        "trusted": true
      },
      "cell_type": "code",
      "source": "play_slot_machine()",
      "execution_count": 71,
      "outputs": [
        {
          "output_type": "execute_result",
          "execution_count": 71,
          "data": {
            "text/plain": "0"
          },
          "metadata": {}
        }
      ]
    },
    {
      "metadata": {
        "_uuid": "df644682da0dae5441d138031a8cc7d582f229df"
      },
      "cell_type": "markdown",
      "source": "By the way, did we mention that each play costs $1? Don't worry, we'll send you the bill later.\n\nOn average, how much money can you expect to gain (or lose) every time you play the machine?  The casino keeps it a secret, but you can estimate the average value of each pull using a technique called the **Monte Carlo method**. To estimate the average outcome, we simulate the scenario many times, and return the average result.\n\nComplete the following function to calculate the average value per play of the slot machine."
    },
    {
      "metadata": {
        "_uuid": "1916d098ab79f589189f91891f77f9474cb3e9df",
        "trusted": true
      },
      "cell_type": "code",
      "source": "import random\ndef estimate_average_slot_payout(n_runs):\n    \"\"\"Run the slot machine n_runs times and return the average net profit per run.\n    Example calls (note that return value is nondeterministic!):\n    >>> estimate_average_slot_payout(1)\n    -1\n    >>> estimate_average_slot_payout(1)\n    0.5\n    \"\"\"\n    pass\n    spin = 0\n    winning = 0\n    loosing = 0\n    for i in range(n_runs):\n        for x in range(3):\n            spin =  (random.randint(1,2))\n        print(spin)    \n        if spin % 2 == 0:\n            winning += 0.5\n        else:\n            loosing -= 1.0\n        \n    res = winning + loosing\n    return res\nestimate_average_slot_payout(1)",
      "execution_count": 74,
      "outputs": [
        {
          "output_type": "stream",
          "text": "1\n",
          "name": "stdout"
        },
        {
          "output_type": "execute_result",
          "execution_count": 74,
          "data": {
            "text/plain": "-1.0"
          },
          "metadata": {}
        }
      ]
    },
    {
      "metadata": {
        "_uuid": "a612b1ae13cdaa31b86adc11e231637b24fa07c9"
      },
      "cell_type": "markdown",
      "source": "When you think you know the expected value per spin, uncomment the line below to see how close you were."
    },
    {
      "metadata": {
        "collapsed": true,
        "_uuid": "80fb22e40cc2fd22e3c8d3e10b56cc5e1b62dd10",
        "trusted": false
      },
      "cell_type": "code",
      "source": "#q4.solution()",
      "execution_count": null,
      "outputs": []
    },
    {
      "metadata": {
        "_uuid": "62604591aa4bfd5dd1fdda4363b502f5595d5b74"
      },
      "cell_type": "markdown",
      "source": "## 5. <span title=\"Spicy\" style=\"color: coral\">🌶️🌶️</span>\n\nGary wants to know how many spins he can play before running out of money. (Remember, each turn at the slot machine costs $1.)\n\nSo, if he has $10, he can definitely play 10 spins (because he'll have enough money to pay for the 10th spin even if he never wins). But he could only play an 11th spin if his total winnings from the first 10 was enough to pay for the 11th spin. How likely is that?\n\nYou will estimate the probability with the Monte Carlo method. That is, you will simulate the scenario many times, and return the proportion of simulations where he ran out of money before a desired number of spins. \n\nComplete the function below to estimate the probability that he can complete a given number of spins of the machine before running out of money."
    },
    {
      "metadata": {
        "collapsed": true,
        "_uuid": "41337f2712657c28008f55ce598f81f3ea1dba22",
        "trusted": false
      },
      "cell_type": "code",
      "source": "def slots_survival_probability(start_balance, n_spins, n_simulations):\n    \"\"\"Return the approximate probability (as a number between 0 and 1) that we can complete the \n    given number of spins of the slot machine before running out of money, assuming we start \n    with the given balance. Estimate the probability by running the scenario the specified number of times.\n    \n    >>> slots_survival_probability(10.00, 10, 1000)\n    1.0\n    >>> slots_survival_probability(1.00, 2, 1000)\n    .25\n    \"\"\"\n    pass\n\nq5.check()",
      "execution_count": null,
      "outputs": []
    },
    {
      "metadata": {
        "collapsed": true,
        "_uuid": "8ebe3b132233c9f5e752e8cf8d297b9cd16ebac3",
        "trusted": false
      },
      "cell_type": "code",
      "source": "#q5.solution()",
      "execution_count": null,
      "outputs": []
    },
    {
      "metadata": {
        "_uuid": "d9d3a390ebcffdc725174bf4221191cd0127d621"
      },
      "cell_type": "markdown",
      "source": "# Keep Going\n\nYou are ready for **[strings and dictionaries](https://www.kaggle.com/colinmorris/strings-and-dictionaries).**\n\n"
    },
    {
      "metadata": {
        "_uuid": "a68d1afd8edea9e02ef006e3cdaa5c86fc182840"
      },
      "cell_type": "markdown",
      "source": "---\n**[Python Course Home Page](https://www.kaggle.com/learn/python)**\n\n"
    }
  ],
  "metadata": {
    "kernelspec": {
      "display_name": "Python 3",
      "language": "python",
      "name": "python3"
    },
    "language_info": {
      "name": "python",
      "version": "3.6.6",
      "mimetype": "text/x-python",
      "codemirror_mode": {
        "name": "ipython",
        "version": 3
      },
      "pygments_lexer": "ipython3",
      "nbconvert_exporter": "python",
      "file_extension": ".py"
    },
    "learntools_metadata": {
      "lesson_index": 4,
      "type": "exercise"
    }
  },
  "nbformat": 4,
  "nbformat_minor": 1
}