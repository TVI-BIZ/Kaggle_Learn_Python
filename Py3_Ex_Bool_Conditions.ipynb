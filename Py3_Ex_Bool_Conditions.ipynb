{
  "cells": [
    {
      "metadata": {
        "_uuid": "ef79745ab098005f4bfb0fdc7362a4ae580aeaca"
      },
      "cell_type": "markdown",
      "source": "**[Python Course Home Page](https://www.kaggle.com/learn/python)**\n\n---\n"
    },
    {
      "metadata": {
        "_uuid": "0d2702d5af67b3cb82045247f33af06988817001"
      },
      "cell_type": "markdown",
      "source": "These exercises accompany the tutorial on [booleans and conditionals](https://www.kaggle.com/colinmorris/booleans-and-conditionals).\n\nAs always **be sure to run the setup code below** before working on the questions (and if you leave this notebook and come back later, don't forget to run the setup code again)."
    },
    {
      "metadata": {
        "_uuid": "ace2f2b8df09b5f30c9bee572e699e4e848d484c",
        "trusted": true
      },
      "cell_type": "code",
      "source": "# SETUP. You don't need to worry for now about what this code does or how it works. If you're ever curious about the \n# code behind these exercises, it's available under an open source license here: https://github.com/Kaggle/learntools/\nfrom learntools.core import binder; binder.bind(globals())\nfrom learntools.python.ex3 import *\nprint('Setup complete.')",
      "execution_count": 1,
      "outputs": [
        {
          "output_type": "stream",
          "text": "Setup complete.\n",
          "name": "stdout"
        }
      ]
    },
    {
      "metadata": {
        "_uuid": "86d3979a0981f996903bf48b282ad365b539cd2d"
      },
      "cell_type": "markdown",
      "source": "# Exercises"
    },
    {
      "metadata": {
        "_uuid": "5a37046d08cfbf2df41c3184a7d7bcde80c8efa6"
      },
      "cell_type": "markdown",
      "source": "## 1.\n\nMany programming languages have [sign](https://en.wikipedia.org/wiki/Sign_function) available as a built-in function. Python doesn't, but we can define our own!\n\nIn the cell below, define a function called `sign` which takes a numerical argument and returns -1 if it's negative, 1 if it's positive, and 0 if it's 0."
    },
    {
      "metadata": {
        "_uuid": "7fc343978977433c99605f8942a5eb78f1ac67e3",
        "trusted": true
      },
      "cell_type": "code",
      "source": "# Your code goes here. Define a function called 'sign'\ndef sign(arg):\n    if arg < 0:\n        return -1\n    elif arg == 0:\n        return 0\n    elif arg > 0:\n        return 1\nq1.check()",
      "execution_count": 2,
      "outputs": [
        {
          "output_type": "display_data",
          "data": {
            "text/plain": "<IPython.core.display.Javascript object>",
            "application/javascript": "parent.postMessage({\"jupyterEvent\": \"custom.exercise_interaction\", \"data\": {\"outcomeType\": 1, \"valueTowardsCompletion\": 0.25, \"interactionType\": 1, \"learnTutorialId\": 106, \"questionId\": \"1_SignFunctionProblem\", \"learnToolsVersion\": \"0.2.11\", \"failureMessage\": \"\", \"exceptionClass\": \"\", \"trace\": \"\"}}, \"*\")"
          },
          "metadata": {}
        },
        {
          "output_type": "display_data",
          "data": {
            "text/plain": "Correct",
            "text/markdown": "<span style=\"color:#33cc33\">Correct</span>"
          },
          "metadata": {}
        }
      ]
    },
    {
      "metadata": {
        "_uuid": "4dfa59374afa916b17372dab8703f4759e8d2443",
        "trusted": false
      },
      "cell_type": "code",
      "source": "#q1.solution()",
      "execution_count": null,
      "outputs": []
    },
    {
      "metadata": {
        "_uuid": "3913cd7565f1ce74a7ca4ccf6b5d4c9785ce54cd"
      },
      "cell_type": "markdown",
      "source": "## 2.\n\nWe've decided to add some simple logging to our `to_smash` function from [the previous exercise](https://www.kaggle.com/kernels/fork/1275158)."
    },
    {
      "metadata": {
        "_uuid": "44c5fe770712319bed3994a05a869009328f7a59",
        "trusted": true
      },
      "cell_type": "code",
      "source": "def to_smash(total_candies):\n    \"\"\"Return the number of leftover candies that must be smashed\n    after distributing the given number of candies\n    evenly between 3 friends.\n    \n    >>> to_smash(91)\n    1\n    \"\"\"\n    if total_candies < 3:\n        print('We have not enough candies to split')\n    else:\n        if total_candies % 3 < 2:\n            print(\"Splitting\", total_candies, \"candie\")\n        else:\n            print(\"Splitting\", total_candies, \"candies\")\n        \n        return total_candies % 3\n    \n    #print(\"Splitting\", total_candies, \"candies\")\n    #return total_candies % 3\n\nto_smash(91)",
      "execution_count": 9,
      "outputs": [
        {
          "output_type": "stream",
          "text": "Splitting 91 candie\n",
          "name": "stdout"
        },
        {
          "output_type": "execute_result",
          "execution_count": 9,
          "data": {
            "text/plain": "1"
          },
          "metadata": {}
        }
      ]
    },
    {
      "metadata": {
        "_uuid": "dba806217bbcd6f4220da18de956401f69bab0e1"
      },
      "cell_type": "markdown",
      "source": "But wait, what happens if we call it with `total_candies = 1`?"
    },
    {
      "metadata": {
        "_uuid": "2f8d70f5f2a7a6ddd462a35d0c198dbdb2c67628",
        "trusted": false
      },
      "cell_type": "code",
      "source": "to_smash(1)",
      "execution_count": null,
      "outputs": []
    },
    {
      "metadata": {
        "_uuid": "0d39f2c73547feb703b1d562075c273a1cbc9fd7"
      },
      "cell_type": "markdown",
      "source": "How embarrassing!\n\nModify the definition in the cell below to correct the grammar of our print statement. (If there's only one candy, we should use the singular \"candy\" instead of the plural \"candies\")\n\n**Bonus**: <span title=\"A bit spicy\" style=\"color: darkgreen \">🌶️</span> Can you fix the function without increasing the number of lines of code?"
    },
    {
      "metadata": {
        "_uuid": "0f698084ce21bbdc9769a07b77a152c0c3908ac0",
        "trusted": true
      },
      "cell_type": "code",
      "source": "def to_smash(total_candies):\n    \"\"\"Return the number of leftover candies that must be smashed after distributing\n    the given number of candies evenly between 3 friends.\n    \n    >>> to_smash(91)\n    1\n    \"\"\"\n    print(\"Splitting\", total_candies , \"candies\" if total_candies % 3 > 2 or total_candies > 2 else 'candie' )\n    return total_candies % 3\n\nto_smash(91)\nto_smash(1)",
      "execution_count": 12,
      "outputs": [
        {
          "output_type": "stream",
          "text": "Splitting 91 candies\nSplitting 1 candie\n",
          "name": "stdout"
        },
        {
          "output_type": "execute_result",
          "execution_count": 12,
          "data": {
            "text/plain": "1"
          },
          "metadata": {}
        }
      ]
    },
    {
      "metadata": {
        "_uuid": "37f5cab17d70cacddd9a745dce580508c58e2889",
        "trusted": false
      },
      "cell_type": "code",
      "source": "#q2.solution()",
      "execution_count": null,
      "outputs": []
    },
    {
      "metadata": {
        "_uuid": "a73d7f111c42c51285640bf7491955e2038c90e3"
      },
      "cell_type": "markdown",
      "source": "## 3. <span title=\"A bit spicy\" style=\"color: darkgreen \">🌶️</span>\n\nIn the main lesson we talked about deciding whether we're prepared for the weather. I said that I'm safe from today's weather if...\n- I have an umbrella...\n- or if the rain isn't too heavy and I have a hood...\n- otherwise, I'm still fine unless it's raining *and* it's a workday\n\nThe function below uses our first attempt at turning this logic into a Python expression. I claimed that there was a bug in that code. Can you find it?\n\nTo prove that `prepared_for_weather` is buggy, come up with a set of inputs where it returns the wrong answer."
    },
    {
      "metadata": {
        "trusted": true,
        "_uuid": "31aa6166cb8af221792e12c37e77551c143d62b8"
      },
      "cell_type": "code",
      "source": "",
      "execution_count": null,
      "outputs": []
    },
    {
      "metadata": {
        "_uuid": "d30a8739dfb4cd71885d3584457db47841c5512f",
        "trusted": true
      },
      "cell_type": "code",
      "source": "def prepared_for_weather(have_umbrella, rain_level, have_hood, is_workday):\n    # Don't change this code. Our goal is just to find the bug, not fix it!\n    return have_umbrella or rain_level < 5 and have_hood or not rain_level > 0 and is_workday\n\n# Change the values of these inputs so they represent a case where prepared_for_weather\n# returns the wrong answer.\nhave_umbrella = False\nrain_level = -1.0\nhave_hood = False\nis_workday = False\n\n# Check what the function returns given the current values of the variables above\nactual = prepared_for_weather(have_umbrella, rain_level, have_hood, is_workday)\nprint(actual)\n\nq3.check()",
      "execution_count": 18,
      "outputs": [
        {
          "output_type": "stream",
          "text": "False\n",
          "name": "stdout"
        },
        {
          "output_type": "display_data",
          "data": {
            "text/plain": "<IPython.core.display.Javascript object>",
            "application/javascript": "parent.postMessage({\"jupyterEvent\": \"custom.exercise_interaction\", \"data\": {\"outcomeType\": 1, \"valueTowardsCompletion\": 0.25, \"interactionType\": 1, \"learnTutorialId\": 106, \"questionId\": \"3_WeatherDebug\", \"learnToolsVersion\": \"0.2.11\", \"failureMessage\": \"\", \"exceptionClass\": \"\", \"trace\": \"\"}}, \"*\")"
          },
          "metadata": {}
        },
        {
          "output_type": "display_data",
          "data": {
            "text/plain": "Correct: \n\nOne example of a failing test case is:\n\n```python\nhave_umbrella = False\nrain_level = 0.0\nhave_hood = False\nis_workday = False\n```\n\nClearly we're prepared for the weather in this case. It's not raining. Not only that, it's not a workday, so we don't even need to leave the house! But our function will return False on these inputs.\n\nThe key problem is that Python implictly parenthesizes the last part as:\n\n```python\n(not (rain_level > 0)) and is_workday\n```\n\nWhereas what we were trying to express would look more like:\n\n```python\nnot (rain_level > 0 and is_workday)\n```",
            "text/markdown": "<span style=\"color:#33cc33\">Correct:</span> \n\nOne example of a failing test case is:\n\n```python\nhave_umbrella = False\nrain_level = 0.0\nhave_hood = False\nis_workday = False\n```\n\nClearly we're prepared for the weather in this case. It's not raining. Not only that, it's not a workday, so we don't even need to leave the house! But our function will return False on these inputs.\n\nThe key problem is that Python implictly parenthesizes the last part as:\n\n```python\n(not (rain_level > 0)) and is_workday\n```\n\nWhereas what we were trying to express would look more like:\n\n```python\nnot (rain_level > 0 and is_workday)\n```\n"
          },
          "metadata": {}
        }
      ]
    },
    {
      "metadata": {
        "_uuid": "e3086b73e3f363e994a19dc9fc6103fb2f605e8b",
        "trusted": false
      },
      "cell_type": "code",
      "source": "#q3.hint()\n#q3.solution()",
      "execution_count": null,
      "outputs": []
    },
    {
      "metadata": {
        "_uuid": "804f2f658ab53cabed6e9f552cc908c8914da397"
      },
      "cell_type": "markdown",
      "source": "## 4.\n\nThe function `is_negative` below is implemented correctly - it returns True if the given number is negative and False otherwise.\n\nHowever, it's more verbose than it needs to be. We can actually reduce the number of lines of code in this function by *75%* while keeping the same behaviour. \n\nSee if you can come up with an equivalent body that uses just **one line** of code, and put it in the function `concise_is_negative`. (HINT: you don't even need Python's ternary syntax)"
    },
    {
      "metadata": {
        "_uuid": "e40aaeec9e5f0ffe71ec766452c8b28b71de6b4d",
        "trusted": true
      },
      "cell_type": "code",
      "source": "def is_negative(number):\n    if number < 0:\n        return True\n    else:\n        return False\n\ndef concise_is_negative(number):\n    pass # Your code goes here (try to keep it to one line!)\n    return is_negative(number)\nq4.check()",
      "execution_count": 19,
      "outputs": [
        {
          "output_type": "display_data",
          "data": {
            "text/plain": "<IPython.core.display.Javascript object>",
            "application/javascript": "parent.postMessage({\"jupyterEvent\": \"custom.exercise_interaction\", \"data\": {\"outcomeType\": 1, \"valueTowardsCompletion\": 0.25, \"interactionType\": 1, \"learnTutorialId\": 106, \"questionId\": \"4_ConciseIsNegative\", \"learnToolsVersion\": \"0.2.11\", \"failureMessage\": \"\", \"exceptionClass\": \"\", \"trace\": \"\"}}, \"*\")"
          },
          "metadata": {}
        },
        {
          "output_type": "display_data",
          "data": {
            "text/plain": "Correct",
            "text/markdown": "<span style=\"color:#33cc33\">Correct</span>"
          },
          "metadata": {}
        }
      ]
    },
    {
      "metadata": {
        "_uuid": "c414079e0e74b1df4a0921c0be8a838aaebc1804",
        "trusted": false
      },
      "cell_type": "code",
      "source": "#q4.hint()\n#q4.solution()",
      "execution_count": null,
      "outputs": []
    },
    {
      "metadata": {
        "_uuid": "3ee7b3bd12c83fc72e08c0cf0699d0d0c64be714"
      },
      "cell_type": "markdown",
      "source": "## 5.\n\nThe boolean variables `ketchup`, `mustard` and `onion` represent whether a customer wants a particular topping on their hot dog. We want to implement a number of boolean functions that correspond to some yes-or-no questions about the customer's order. For example:"
    },
    {
      "metadata": {
        "_uuid": "c385f6877e2aa6c3814ba2c3c70cea9c256e0678",
        "trusted": true
      },
      "cell_type": "code",
      "source": "def onionless(ketchup, mustard, onion):\n    \"\"\"Return whether the customer doesn't want onions.\n    \"\"\"\n    if onion != True:\n        return not onion",
      "execution_count": 20,
      "outputs": []
    },
    {
      "metadata": {
        "_uuid": "e924bb6549884a65e11c32c13dd9b9ecd15148a6"
      },
      "cell_type": "markdown",
      "source": "For each of the remaining functions, fill in the body to match the English description in the docstring. "
    },
    {
      "metadata": {
        "_uuid": "f3b2560d9b1dc139db097e70ec7d67940248cc4f",
        "trusted": true
      },
      "cell_type": "code",
      "source": "def wants_all_toppings(ketchup, mustard, onion):\n    \"\"\"Return whether the customer wants \"the works\" (all 3 toppings)\n    \"\"\"\n    pass\n    if ketchup == True and mustard == True and onion == True:\n        return True\n    else:\n        return False\n\nq5.a.check()",
      "execution_count": 25,
      "outputs": [
        {
          "output_type": "display_data",
          "data": {
            "text/plain": "<IPython.core.display.Javascript object>",
            "application/javascript": "parent.postMessage({\"jupyterEvent\": \"custom.exercise_interaction\", \"data\": {\"outcomeType\": 1, \"valueTowardsCompletion\": 0.25, \"interactionType\": 1, \"learnTutorialId\": 106, \"questionId\": \"5.1_AllToppings\", \"learnToolsVersion\": \"0.2.11\", \"failureMessage\": \"\", \"exceptionClass\": \"\", \"trace\": \"\"}}, \"*\")"
          },
          "metadata": {}
        },
        {
          "output_type": "display_data",
          "data": {
            "text/plain": "Correct",
            "text/markdown": "<span style=\"color:#33cc33\">Correct</span>"
          },
          "metadata": {}
        }
      ]
    },
    {
      "metadata": {
        "_uuid": "b6f5cbb22108cb9a11feb9f299c1b492f11ae9b9",
        "trusted": false
      },
      "cell_type": "code",
      "source": "#q5.a.hint()\n#q5.a.solution()",
      "execution_count": null,
      "outputs": []
    },
    {
      "metadata": {
        "_uuid": "ae245c94d7e1d9a784c005b74fc6164824bc0ba0",
        "trusted": true
      },
      "cell_type": "code",
      "source": "def wants_plain_hotdog(ketchup, mustard, onion):\n    \"\"\"Return whether the customer wants a plain hot dog with no toppings.\n    \"\"\"\n    pass\n    if ketchup == False and mustard == False and onion == False:\n        return True\n    else:\n        return False\n\nq5.b.check()",
      "execution_count": 26,
      "outputs": [
        {
          "output_type": "display_data",
          "data": {
            "text/plain": "<IPython.core.display.Javascript object>",
            "application/javascript": "parent.postMessage({\"jupyterEvent\": \"custom.exercise_interaction\", \"data\": {\"outcomeType\": 1, \"valueTowardsCompletion\": 0.25, \"interactionType\": 1, \"learnTutorialId\": 106, \"questionId\": \"5.2_PlainDog\", \"learnToolsVersion\": \"0.2.11\", \"failureMessage\": \"\", \"exceptionClass\": \"\", \"trace\": \"\"}}, \"*\")"
          },
          "metadata": {}
        },
        {
          "output_type": "display_data",
          "data": {
            "text/plain": "Correct: \n\nOne solution looks like:\n```python\nreturn not ketchup and not mustard and not onion\n```\n\nWe can also [\"factor out\" the nots](https://en.wikipedia.org/wiki/De_Morgan%27s_laws) to get:\n\n```python\nreturn not (ketchup or mustard or onion)\n```",
            "text/markdown": "<span style=\"color:#33cc33\">Correct:</span> \n\nOne solution looks like:\n```python\nreturn not ketchup and not mustard and not onion\n```\n\nWe can also [\"factor out\" the nots](https://en.wikipedia.org/wiki/De_Morgan%27s_laws) to get:\n\n```python\nreturn not (ketchup or mustard or onion)\n```"
          },
          "metadata": {}
        }
      ]
    },
    {
      "metadata": {
        "_uuid": "ff8e9f8d8b43078ff18fc3029b9f880f14d724cd",
        "trusted": false
      },
      "cell_type": "code",
      "source": "#q5.b.hint()\n#q5.b.solution()",
      "execution_count": null,
      "outputs": []
    },
    {
      "metadata": {
        "_uuid": "95c910b00a83f1857c224b944e589308a671cd38",
        "trusted": true
      },
      "cell_type": "code",
      "source": "def exactly_one_sauce(ketchup, mustard, onion):\n    \"\"\"Return whether the customer wants either ketchup or mustard, but not both.\n    (You may be familiar with this operation under the name \"exclusive or\")\n    \"\"\"\n    pass\n    if (ketchup == True or mustard == True) and (ketchup == False or mustard == False):\n        return True\n    else:\n        return False\n\n\nq5.c.check()",
      "execution_count": 39,
      "outputs": [
        {
          "output_type": "display_data",
          "data": {
            "text/plain": "<IPython.core.display.Javascript object>",
            "application/javascript": "parent.postMessage({\"jupyterEvent\": \"custom.exercise_interaction\", \"data\": {\"outcomeType\": 1, \"valueTowardsCompletion\": 0.25, \"interactionType\": 1, \"learnTutorialId\": 106, \"questionId\": \"5.3_OneSauce\", \"learnToolsVersion\": \"0.2.11\", \"failureMessage\": \"\", \"exceptionClass\": \"\", \"trace\": \"\"}}, \"*\")"
          },
          "metadata": {}
        },
        {
          "output_type": "display_data",
          "data": {
            "text/plain": "Correct",
            "text/markdown": "<span style=\"color:#33cc33\">Correct</span>"
          },
          "metadata": {}
        }
      ]
    },
    {
      "metadata": {
        "_uuid": "ff376f4804ee7929785d56433b60d3bab5779ffa",
        "trusted": false,
        "scrolled": true
      },
      "cell_type": "code",
      "source": "#q5.c.hint()\n#q5.c.solution()",
      "execution_count": null,
      "outputs": []
    },
    {
      "metadata": {
        "_uuid": "956b9666af112c65f4c748baa5112854044d7ca7"
      },
      "cell_type": "markdown",
      "source": "## 6. <span title=\"A bit spicy\" style=\"color: darkgreen \">🌶️</span>\n\nWe’ve seen that calling `bool()` on an integer returns `False` if it’s equal to 0 and `True` otherwise. What happens if we call `int()` on a bool? Try it out in the console or a new code cell.\n\nCan you take advantage of this to write a succinct function that corresponds to the English sentence \"does the customer want exactly one topping?\"?"
    },
    {
      "metadata": {
        "_uuid": "bdca69f2bfa9b3f61d67b5524ea006e24af8467a",
        "trusted": true
      },
      "cell_type": "code",
      "source": "def exactly_one_topping(ketchup, mustard, onion):\n    \"\"\"Return whether the customer wants exactly one of the three available toppings\n    on their hot dog.\n    \"\"\"\n    pass   \n    t1 = int(ketchup)\n    t2 = int(mustard)\n    t3 = int(onion)\n    \n    sum = 0\n    if ketchup == True:\n        sum = t1 +t2 +t3\n    elif mustard == True:\n        sum = t1 +t2 +t3\n    elif onion == True:\n        sum = t1 +t2 +t3\n  \n    if t1 == 1 and ( sum == 1):\n        return True\n    elif t2 == 1 and ( sum == 1):\n        return True\n    elif t3 == 1 and ( sum == 1):\n        return True\n    else:\n        return False\n    \n        \nq6.check()",
      "execution_count": 49,
      "outputs": [
        {
          "output_type": "display_data",
          "data": {
            "text/plain": "<IPython.core.display.Javascript object>",
            "application/javascript": "parent.postMessage({\"jupyterEvent\": \"custom.exercise_interaction\", \"data\": {\"outcomeType\": 1, \"valueTowardsCompletion\": 0.25, \"interactionType\": 1, \"learnTutorialId\": 106, \"questionId\": \"6_OneTopping\", \"learnToolsVersion\": \"0.2.11\", \"failureMessage\": \"\", \"exceptionClass\": \"\", \"trace\": \"\"}}, \"*\")"
          },
          "metadata": {}
        },
        {
          "output_type": "display_data",
          "data": {
            "text/plain": "Correct: \n\nThis condition would be pretty complicated to express using just `and`, `or` and `not`, but using boolean-to-integer conversion gives us this short solution:\n```python\nreturn (int(ketchup) + int(mustard) + int(onion)) == 1\n```\n\nFun fact: we don't technically need to call `int` on the arguments. Just by doing addition with booleans, Python implicitly does the integer conversion. So we could also write...\n\n```python\nreturn (ketchup + mustard + onion) == 1\n```",
            "text/markdown": "<span style=\"color:#33cc33\">Correct:</span> \n\nThis condition would be pretty complicated to express using just `and`, `or` and `not`, but using boolean-to-integer conversion gives us this short solution:\n```python\nreturn (int(ketchup) + int(mustard) + int(onion)) == 1\n```\n\nFun fact: we don't technically need to call `int` on the arguments. Just by doing addition with booleans, Python implicitly does the integer conversion. So we could also write...\n\n```python\nreturn (ketchup + mustard + onion) == 1\n```"
          },
          "metadata": {}
        }
      ]
    },
    {
      "metadata": {
        "_uuid": "a11f4a73233b0ac7c3da9a1186a2f30af3c27f41",
        "trusted": false
      },
      "cell_type": "code",
      "source": "#q6.hint()\n#q6.solution()",
      "execution_count": null,
      "outputs": []
    },
    {
      "metadata": {
        "_uuid": "0542a20b2d854dba2779f31674f6e1b16c0667a7"
      },
      "cell_type": "markdown",
      "source": "## 7. <span title=\"A bit spicy\" style=\"color: darkgreen \">🌶️</span>\n\nIn this problem we'll be working with a simplified version of [blackjack](https://en.wikipedia.org/wiki/Blackjack) (aka twenty-one). In this version there is one player (who you'll control) and a dealer. Play proceeds as follows:\n\n- The player is dealt two face-up cards. The dealer is dealt one face-up card.\n- The player may ask to be dealt another card ('hit') as many times as they wish. If the sum of their cards exceeds 21, they lose the round immediately.\n- The dealer then deals additional cards to himself until either:\n    - the sum of the dealer's cards exceeds 21, in which case the player wins the round\n    - the sum of the dealer's cards is greater than or equal to 17. If the player's total is greater than the dealer's, the player wins. Otherwise, the dealer wins (even in case of a tie).\n    \nWhen calculating the sum of cards, Jack, Queen, and King count for 10. Aces can count as 1 or 11 (when referring to a player's \"total\" above, we mean the largest total that can be made without exceeding 21. So e.g. A+8 = 19, A+8+8 = 17)\n\nFor this problem, you'll write a function representing the player's decision-making strategy in this game. We've provided a very unintelligent implementation below:"
    },
    {
      "metadata": {
        "_uuid": "a6f1f884b73afbbf5a1216224c79a465340ec9bd",
        "trusted": true
      },
      "cell_type": "code",
      "source": "def should_hit(dealer_total, player_total, player_low_aces,\n               player_high_aces):\n    \"\"\"Return True if the player should hit (request another card)\n    given the current game\n    state, or False if the player should stay.\n    When calculating a hand's total value, \n    we count aces as \"high\" (with value 11) if doing so\n    doesn't bring the total above 21, \n    otherwise we count them as low (with value 1). \n    For example, if the player's hand is {A, A, A, 7},\n    we will count it as 11 + 1 + 1 + 7,\n    and therefore set player_total=20,\n    player_low_aces=2, player_high_aces=1.\n    \"\"\"\n\n    if player_total >= 21:\n        return False\n    else:\n        return True\n    \n    \n    \n    #return False",
      "execution_count": 54,
      "outputs": []
    },
    {
      "metadata": {
        "_uuid": "060bba8e479d1e5514fc008880e4cb8810fdb563"
      },
      "cell_type": "markdown",
      "source": "This very conservative agent *always* sticks with the hand of two cards that they're dealt.\n\nWe'll be simulating games between your player agent and our own dealer agent by calling your function.\n\nTry running the function below to see an example of a simulated game:"
    },
    {
      "metadata": {
        "_uuid": "a60110d379a9a65cfa734b98734969f87d416fae",
        "trusted": true
      },
      "cell_type": "code",
      "source": "q7.simulate_one_game()",
      "execution_count": 60,
      "outputs": [
        {
          "output_type": "stream",
          "text": "Player starts with 5 and 5 (total = 10)\nDealer starts with 8\n\n__Player's turn__\nPlayer hits and receives 5. (total = 15)\nPlayer hits and receives J. (total = 25)\nPlayer busts! Dealer wins.\n",
          "name": "stdout"
        }
      ]
    },
    {
      "metadata": {
        "_uuid": "84c5237fba4c750f15efdb74a74da528b1b7d1aa"
      },
      "cell_type": "markdown",
      "source": "The real test of your agent's mettle is their average win rate over many games. Try calling the function below to simulate 50000 games of blackjack (it may take a couple seconds):"
    },
    {
      "metadata": {
        "_uuid": "16c9a10b671d0e3150fee5b4c10471069e5fb404",
        "trusted": true
      },
      "cell_type": "code",
      "source": "q7.simulate(n_games=50000)",
      "execution_count": null,
      "outputs": []
    },
    {
      "metadata": {
        "_uuid": "7810bafb63dd5d89b093719e21d24dff8d30374f"
      },
      "cell_type": "markdown",
      "source": "Our dumb agent that completely ignores the game state still manages to win shockingly often!\n\nTry adding some more smarts to the `should_hit` function and see how it affects the results."
    },
    {
      "metadata": {
        "_uuid": "003eaa3bbf03ecbfd0672e7090d1b11ff8a58f40",
        "trusted": false
      },
      "cell_type": "code",
      "source": "def should_hit(dealer_total, player_total, player_low_aces, player_high_aces):\n    \"\"\"Return True if the player should hit (request another card) given the current game\n    state, or False if the player should stay.\n    When calculating a hand's total value, we count aces as \"high\" (with value 11) if doing so\n    doesn't bring the total above 21, otherwise we count them as low (with value 1). \n    For example, if the player's hand is {A, A, A, 7}, we will count it as 11 + 1 + 1 + 7,\n    and therefore set player_total=20, player_low_aces=2, player_high_aces=1.\n    \"\"\"\n    return False\n\nq7.simulate(n_games=50000)",
      "execution_count": null,
      "outputs": []
    },
    {
      "metadata": {
        "_uuid": "da74987b752ae945f567bdc0159ffad01f584a5e"
      },
      "cell_type": "markdown",
      "source": "How high can you get your win rate? Share your results on the [forums](https://www.kaggle.com/learn-forum).\n\n# Keep Going\n\nYou are ready for **[lists and tuples](https://www.kaggle.com/colinmorris/lists).**\n"
    },
    {
      "metadata": {
        "_uuid": "42c5fa85924362c4b083fd5b3b78eb44d1b21520"
      },
      "cell_type": "markdown",
      "source": "---\n**[Python Course Home Page](https://www.kaggle.com/learn/python)**\n\n"
    }
  ],
  "metadata": {
    "kernelspec": {
      "display_name": "Python 3",
      "language": "python",
      "name": "python3"
    },
    "language_info": {
      "name": "python",
      "version": "3.6.6",
      "mimetype": "text/x-python",
      "codemirror_mode": {
        "name": "ipython",
        "version": 3
      },
      "pygments_lexer": "ipython3",
      "nbconvert_exporter": "python",
      "file_extension": ".py"
    },
    "learntools_metadata": {
      "lesson_index": 2,
      "type": "exercise"
    }
  },
  "nbformat": 4,
  "nbformat_minor": 1
}