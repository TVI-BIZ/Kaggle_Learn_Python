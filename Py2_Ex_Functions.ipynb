{
  "cells": [
    {
      "metadata": {
        "_uuid": "f257c1eab6cad7754e1831b475ee0a32c7f78fdc"
      },
      "cell_type": "markdown",
      "source": "**[Python Course Home Page](https://www.kaggle.com/learn/python)**\n\n---\n"
    },
    {
      "metadata": {
        "_uuid": "675965086eedaf1b9a5f0f8c807a1a96288911e7"
      },
      "cell_type": "markdown",
      "source": "These exercises accompany the tutorial on [functions and getting help](https://www.kaggle.com/colinmorris/functions-and-getting-help).\n\nAs before, don't forget to run the setup code below before jumping into question 1."
    },
    {
      "metadata": {
        "_kg_hide-input": true,
        "_kg_hide-output": true,
        "_uuid": "828d464df66b976e9538af77dc8e72e31cb73d52",
        "trusted": true
      },
      "cell_type": "code",
      "source": "# SETUP. You don't need to worry for now about what this code does or how it works. If you're ever curious about the \n# code behind these exercises, it's available under an open source license here: https://github.com/Kaggle/learntools/\nfrom learntools.core import binder; binder.bind(globals())\nfrom learntools.python.ex2 import *\nprint('Setup complete.')",
      "execution_count": 2,
      "outputs": [
        {
          "output_type": "stream",
          "text": "WARNING:root:Ignoring repeated attempt to bind to globals\n",
          "name": "stderr"
        },
        {
          "output_type": "stream",
          "text": "Setup complete.\n",
          "name": "stdout"
        }
      ]
    },
    {
      "metadata": {
        "_uuid": "3d9fc76b14e2a2fc2339580e21cd6e6496a145df"
      },
      "cell_type": "markdown",
      "source": "# Exercises"
    },
    {
      "metadata": {
        "_uuid": "ab61b48bd76a968603044bc77e829d37648c14ce"
      },
      "cell_type": "markdown",
      "source": "## 1.\n\nComplete the body of the following function according to its docstring.\n\nHINT: Python has a builtin function `round`"
    },
    {
      "metadata": {
        "_uuid": "78c19849e882a1cda9cfdcb6c5337246fd58f832",
        "trusted": true
      },
      "cell_type": "code",
      "source": "def round_to_two_places(num):\n    \"\"\"Return the given number rounded to two decimal places. \n    \n    >>> round_to_two_places(3.14159)\n    3.14\n    \"\"\"\n    # Replace this body with your own code.\n    # (\"pass\" is a keyword that does literally nothing. We used it as a placeholder\n    # because after we begin a code block, Python requires at least one line of code)\n    pass\n    #help(round)\n    return (round(num,2))\n\nq1.check()",
      "execution_count": 18,
      "outputs": [
        {
          "output_type": "display_data",
          "data": {
            "text/plain": "<IPython.core.display.Javascript object>",
            "application/javascript": "parent.postMessage({\"jupyterEvent\": \"custom.exercise_interaction\", \"data\": {\"outcomeType\": 1, \"valueTowardsCompletion\": 0.5, \"interactionType\": 1, \"learnTutorialId\": 104, \"questionId\": \"1_RoundFunctionProblem\", \"learnToolsVersion\": \"0.2.11\", \"failureMessage\": \"\", \"exceptionClass\": \"\", \"trace\": \"\"}}, \"*\")"
          },
          "metadata": {}
        },
        {
          "output_type": "display_data",
          "data": {
            "text/plain": "Correct",
            "text/markdown": "<span style=\"color:#33cc33\">Correct</span>"
          },
          "metadata": {}
        }
      ]
    },
    {
      "metadata": {
        "_uuid": "47012e2a1d33faac699bf5c1ca2051b2fd9b7871",
        "trusted": false
      },
      "cell_type": "code",
      "source": "# Uncomment the following for a hint\n#q1.hint()\n# Or uncomment the following to peek at the solution\n#q1.solution()",
      "execution_count": null,
      "outputs": []
    },
    {
      "metadata": {
        "_uuid": "9f279eb92df3ef54577883597ab1c4b338c7e583"
      },
      "cell_type": "markdown",
      "source": "## 2.\nThe help for `round` says that `ndigits` (the second argument) may be negative.\nWhat do you think will happen when it is? Try some examples in the following cell?\n\nCan you think of a case where this would be useful?"
    },
    {
      "metadata": {
        "_uuid": "c130162649e7038d43d61359c3a89893d5e46e04",
        "trusted": true
      },
      "cell_type": "code",
      "source": "# Put your test code here\nprint(round(34467,-3))",
      "execution_count": 20,
      "outputs": [
        {
          "output_type": "stream",
          "text": "34000\n",
          "name": "stdout"
        }
      ]
    },
    {
      "metadata": {
        "_uuid": "dce83a91f65c9ebb9ae69c686c1e53cc3539c385",
        "trusted": false
      },
      "cell_type": "code",
      "source": "#q2.solution()",
      "execution_count": null,
      "outputs": []
    },
    {
      "metadata": {
        "_uuid": "eecfe9e2dc8c0be3a39e03b52bab0fb5781c6198"
      },
      "cell_type": "markdown",
      "source": "## 3.\n\nIn a previous programming problem, the candy-sharing friends Alice, Bob and Carol tried to split candies evenly. For the sake of their friendship, any candies left over would be smashed. For example, if they collectively bring home 91 candies, they'll take 30 each and smash 1.\n\nBelow is a simple function that will calculate the number of candies to smash for *any* number of total candies.\n\nModify it so that it optionally takes a second argument representing the number of friends the candies are being split between. If no second argument is provided, it should assume 3 friends, as before.\n\nUpdate the docstring to reflect this new behaviour."
    },
    {
      "metadata": {
        "_uuid": "9e0817fd2a86e8bfd5719aa2be7fcc64f73ea524",
        "trusted": true
      },
      "cell_type": "code",
      "source": "def to_smash(total_candies,how_many_friends=3):\n    \"\"\"Return the number of leftover candies that must be smashed after distributing\n    the given number of candies evenly between 3 friends.\n    We ask how many friends we have with the candy.\n    If we do not have second parameters, we assume we have 3 friend by default.\n    \n    >>> to_smash(91,5)\n    1\n    \"\"\"\n    return (total_candies % (how_many_friends))\n\nq3.check()",
      "execution_count": 23,
      "outputs": [
        {
          "output_type": "display_data",
          "data": {
            "text/plain": "<IPython.core.display.Javascript object>",
            "application/javascript": "parent.postMessage({\"jupyterEvent\": \"custom.exercise_interaction\", \"data\": {\"outcomeType\": 1, \"valueTowardsCompletion\": 0.5, \"interactionType\": 1, \"learnTutorialId\": 104, \"questionId\": \"3_CandySmashingFunctionProblem\", \"learnToolsVersion\": \"0.2.11\", \"failureMessage\": \"\", \"exceptionClass\": \"\", \"trace\": \"\"}}, \"*\")"
          },
          "metadata": {}
        },
        {
          "output_type": "display_data",
          "data": {
            "text/plain": "Correct",
            "text/markdown": "<span style=\"color:#33cc33\">Correct</span>"
          },
          "metadata": {}
        }
      ]
    },
    {
      "metadata": {
        "_uuid": "cd528b1e9a2a3f4a849d31027691b226be51b37f",
        "trusted": false
      },
      "cell_type": "code",
      "source": "#q3.hint()",
      "execution_count": null,
      "outputs": []
    },
    {
      "metadata": {
        "_uuid": "fbeb13c12059458af47a76ee3080f90992c79b20",
        "trusted": false
      },
      "cell_type": "code",
      "source": "#q3.solution()",
      "execution_count": null,
      "outputs": []
    },
    {
      "metadata": {
        "_uuid": "702f0d17b8e03dfa03cd82f04baa70f278e9579b"
      },
      "cell_type": "markdown",
      "source": "## 4.\n\nIt may not be fun, but reading and understanding error messages will be an important part of your Python career.\n\nEach code cell below contains some commented-out buggy code. For each cell...\n\n1. Read the code and predict what you think will happen when it's run.\n2. Then uncomment the code and run it to see what happens. (**Tip**: In the kernel editor, you can highlight several lines and press `ctrl`+`/` to toggle commenting.)\n3. Fix the code (so that it accomplishes its intended purpose without throwing an exception)\n\n<!-- TODO: should this be autochecked? Delta is probably pretty small. -->"
    },
    {
      "metadata": {
        "_uuid": "061ca6079957c83a8d7b14f05282848f679990b7",
        "trusted": true
      },
      "cell_type": "code",
      "source": "def ruound_to_two_places(num):\n    return (round(num,2))\nruound_to_two_places(9.9999)",
      "execution_count": 27,
      "outputs": [
        {
          "output_type": "execute_result",
          "execution_count": 27,
          "data": {
            "text/plain": "10.0"
          },
          "metadata": {}
        }
      ]
    },
    {
      "metadata": {
        "_uuid": "3b88acd21ca3ed09d4a7d2a72c7bb24e74d6592f",
        "trusted": true
      },
      "cell_type": "code",
      "source": "x = -10\ny = 5\ndef retrun_smallest_abs(x,y):\n    if abs(x) > abs(y):\n        return y\n    else:\n        return x\n    \n# Which of the two variables above has the smallest absolute value?\n#smallest_abs = min(abs(x, y))\nsmallest_abs = retrun_smallest_abs(x,y)\nprint(smallest_abs)",
      "execution_count": 36,
      "outputs": [
        {
          "output_type": "stream",
          "text": "5\n",
          "name": "stdout"
        }
      ]
    },
    {
      "metadata": {
        "_uuid": "dd2e916d73b77d329763c63d848aab50cec41717",
        "trusted": true
      },
      "cell_type": "code",
      "source": "def f(x):\n    y = abs(x)\n    return y\n\nprint(f(5))",
      "execution_count": 38,
      "outputs": [
        {
          "output_type": "stream",
          "text": "5\n",
          "name": "stdout"
        }
      ]
    },
    {
      "metadata": {
        "_uuid": "cb7fc882abe6f9ecb207e6e0dee66f40c829f144"
      },
      "cell_type": "markdown",
      "source": "## 5. <span title=\"A bit spicy\" style=\"color: darkgreen \">🌶️</span>\n\nFor this question, we'll be using two functions imported from Python's `time` module.\n\nThe [time](https://docs.python.org/3/library/time.html#time.time) function returns the number of seconds that have passed since the Epoch (aka [Unix time](https://en.wikipedia.org/wiki/Unix_time)). \n\n<!-- We've provided a function called `seconds_since_epoch` which returns the number of seconds that have passed since the Epoch (aka [Unix time](https://en.wikipedia.org/wiki/Unix_time)). -->\n\nTry it out below. Each time you run it, you should get a slightly larger number."
    },
    {
      "metadata": {
        "_uuid": "79b397ab38b9f04a31e1896a11e28d1c854661db",
        "trusted": true
      },
      "cell_type": "code",
      "source": "# Importing the function 'time' from the module of the same name. \n# (We'll discuss imports in more depth later)\nfrom time import time\nt = time()\nprint(t, \"seconds since the Epoch\")",
      "execution_count": 43,
      "outputs": [
        {
          "output_type": "stream",
          "text": "1547911324.9717178 seconds since the Epoch\n",
          "name": "stdout"
        }
      ]
    },
    {
      "metadata": {
        "_uuid": "8902ccc65cc8c12b1dea400efbe349f8b3c6c5e9"
      },
      "cell_type": "markdown",
      "source": "We'll also be using a function called [sleep](https://docs.python.org/3/library/time.html#time.sleep), which makes us wait some number of seconds while it does nothing particular. (Sounds useful, right?)\n\nYou can see it in action by running the cell below:"
    },
    {
      "metadata": {
        "_uuid": "16b2cdbd188ba849f6d88276081cb4723b7fa872",
        "trusted": true
      },
      "cell_type": "code",
      "source": "from time import sleep\nduration = 2\nprint(\"Getting sleepy. See you in\", duration, \"seconds\")\nprint(type(sleep(duration)))\nprint(\"I'm back. What did I miss?\")",
      "execution_count": 52,
      "outputs": [
        {
          "output_type": "stream",
          "text": "Getting sleepy. See you in 2 seconds\n<class 'NoneType'>\nI'm back. What did I miss?\n",
          "name": "stdout"
        }
      ]
    },
    {
      "metadata": {
        "_uuid": "e0ef77f8afd3847c3133aa8465e14d31292cfb15"
      },
      "cell_type": "markdown",
      "source": "With the help of these functions, complete the function `time_call` below according to its docstring.\n\n<!-- (The sleep function will be useful for testing here since we have a pretty good idea of what something like `time_call(sleep, 1)` should return.) -->"
    },
    {
      "metadata": {
        "_uuid": "6d3feeaa361662b5cd70f34c00cf6d71c3b27955",
        "trusted": true
      },
      "cell_type": "code",
      "source": "\ndef passing_time(d):\n    t0 = time()\n    for i in range(d):\n        sleep(1)\n    t2 = time() \n    res = t2-t0\n    return round(res)\n\n\ndef time_call(fn, arg):\n    \"\"\"Return the amount of time the given function takes (in seconds)\n    when called with the given argument.\n    \"\"\"\n    pass\n    return (fn(arg))\n\nprint(time_call(passing_time,1))\n",
      "execution_count": 55,
      "outputs": [
        {
          "output_type": "stream",
          "text": "1\n",
          "name": "stdout"
        }
      ]
    },
    {
      "metadata": {
        "_uuid": "42c20f3d87a058b1e07f5bce3ce1955a36576734"
      },
      "cell_type": "markdown",
      "source": "How would you verify that `time_call` is working correctly? Think about it, and then check the answer with the `solution` function below`."
    },
    {
      "metadata": {
        "_uuid": "354eab68e6918afb1801a3c015602b9157496d17",
        "trusted": false
      },
      "cell_type": "code",
      "source": "#q5.hint()\n#q5.solution()",
      "execution_count": null,
      "outputs": []
    },
    {
      "metadata": {
        "_uuid": "f00a956416efe248f8e1692528286cc815786aed"
      },
      "cell_type": "markdown",
      "source": "## 6. <span title=\"A bit spicy\" style=\"color: darkgreen \">🌶️</span>\n\n*Note: this question depends on a working solution to the previous question.*\n\nComplete the function below according to its docstring."
    },
    {
      "metadata": {
        "_uuid": "1752b2437590a532d78c2b93b08c700b2ca46863",
        "trusted": true
      },
      "cell_type": "code",
      "source": "def slowest_call(fn, arg1, arg2, arg3):\n    \"\"\"Return the amount of time taken by the slowest of the following function\n    calls: fn(arg1), fn(arg2), fn(arg3)\n    \"\"\"\n    pass\n    res1 = time_call(fn, arg1)\n    res2 = time_call(fn, arg2)\n    res3 = time_call(fn, arg3)\n    \n    return (min(res1,res2,res3))\n\nprint(\"Sloweat time is {} second(s)\".format(slowest_call(passing_time,1,2,3)))\n\n",
      "execution_count": null,
      "outputs": []
    },
    {
      "metadata": {
        "_uuid": "0547769bfa4e9aff449fddf7f9482a1d93b4bcf1",
        "trusted": false
      },
      "cell_type": "code",
      "source": "#q6.hint()",
      "execution_count": null,
      "outputs": []
    },
    {
      "metadata": {
        "_uuid": "ab944546f2e25e1b747d5962383298590162a5b6",
        "trusted": false
      },
      "cell_type": "code",
      "source": "#q6.solution()",
      "execution_count": null,
      "outputs": []
    },
    {
      "metadata": {
        "_uuid": "61b6ecbf922b294800c587facf6576d4a8b7e610"
      },
      "cell_type": "markdown",
      "source": "# Keep Going\n\nYou are ready for **[booleans and conditionals](https://www.kaggle.com/colinmorris/booleans-and-conditionals).**\n"
    },
    {
      "metadata": {
        "_uuid": "54b9ccd3210279a85755a52bc0d27d324505bf3a"
      },
      "cell_type": "markdown",
      "source": "---\n**[Python Course Home Page](https://www.kaggle.com/learn/python)**\n\n"
    }
  ],
  "metadata": {
    "kernelspec": {
      "display_name": "Python 3",
      "language": "python",
      "name": "python3"
    },
    "language_info": {
      "name": "python",
      "version": "3.6.6",
      "mimetype": "text/x-python",
      "codemirror_mode": {
        "name": "ipython",
        "version": 3
      },
      "pygments_lexer": "ipython3",
      "nbconvert_exporter": "python",
      "file_extension": ".py"
    },
    "learntools_metadata": {
      "lesson_index": 1,
      "type": "exercise"
    }
  },
  "nbformat": 4,
  "nbformat_minor": 1
}